{
 "cells": [
  {
   "cell_type": "code",
   "execution_count": 2,
   "id": "4fd872fa-c32d-4a10-a7cf-a21fe2aa312a",
   "metadata": {},
   "outputs": [
    {
     "name": "stdout",
     "output_type": "stream",
     "text": [
      "Collecting spotipy\n",
      "  Downloading spotipy-2.25.0-py3-none-any.whl.metadata (4.7 kB)\n",
      "Collecting redis>=3.5.3 (from spotipy)\n",
      "  Downloading redis-5.2.1-py3-none-any.whl.metadata (9.1 kB)\n",
      "Requirement already satisfied: requests>=2.25.0 in c:\\users\\asmi\\anaconda3\\lib\\site-packages (from spotipy) (2.32.2)\n",
      "Requirement already satisfied: urllib3>=1.26.0 in c:\\users\\asmi\\anaconda3\\lib\\site-packages (from spotipy) (2.2.2)\n",
      "Requirement already satisfied: charset-normalizer<4,>=2 in c:\\users\\asmi\\anaconda3\\lib\\site-packages (from requests>=2.25.0->spotipy) (2.0.4)\n",
      "Requirement already satisfied: idna<4,>=2.5 in c:\\users\\asmi\\anaconda3\\lib\\site-packages (from requests>=2.25.0->spotipy) (3.7)\n",
      "Requirement already satisfied: certifi>=2017.4.17 in c:\\users\\asmi\\anaconda3\\lib\\site-packages (from requests>=2.25.0->spotipy) (2024.6.2)\n",
      "Downloading spotipy-2.25.0-py3-none-any.whl (30 kB)\n",
      "Downloading redis-5.2.1-py3-none-any.whl (261 kB)\n",
      "Installing collected packages: redis, spotipy\n",
      "Successfully installed redis-5.2.1 spotipy-2.25.0\n"
     ]
    }
   ],
   "source": [
    "!pip install spotipy\n"
   ]
  },
  {
   "cell_type": "code",
   "execution_count": 4,
   "id": "4604e6b2-0044-418d-9a3d-423e01d754fe",
   "metadata": {},
   "outputs": [
    {
     "name": "stdout",
     "output_type": "stream",
     "text": [
      "Collecting faiss-cpu\n",
      "  Downloading faiss_cpu-1.9.0.post1-cp312-cp312-win_amd64.whl.metadata (4.5 kB)\n",
      "Requirement already satisfied: numpy<3.0,>=1.25.0 in c:\\users\\asmi\\anaconda3\\lib\\site-packages (from faiss-cpu) (1.26.4)\n",
      "Requirement already satisfied: packaging in c:\\users\\asmi\\anaconda3\\lib\\site-packages (from faiss-cpu) (23.2)\n",
      "Downloading faiss_cpu-1.9.0.post1-cp312-cp312-win_amd64.whl (13.8 MB)\n",
      "   ---------------------------------------- 0.0/13.8 MB ? eta -:--:--\n",
      "   -- ------------------------------------- 0.8/13.8 MB 4.8 MB/s eta 0:00:03\n",
      "   ---- ----------------------------------- 1.6/13.8 MB 4.7 MB/s eta 0:00:03\n",
      "   ------ --------------------------------- 2.4/13.8 MB 4.5 MB/s eta 0:00:03\n",
      "   -------- ------------------------------- 2.9/13.8 MB 3.7 MB/s eta 0:00:03\n",
      "   --------- ------------------------------ 3.1/13.8 MB 3.1 MB/s eta 0:00:04\n",
      "   --------- ------------------------------ 3.1/13.8 MB 3.1 MB/s eta 0:00:04\n",
      "   ---------- ----------------------------- 3.7/13.8 MB 2.6 MB/s eta 0:00:04\n",
      "   ------------ --------------------------- 4.5/13.8 MB 2.7 MB/s eta 0:00:04\n",
      "   -------------- ------------------------- 5.0/13.8 MB 2.7 MB/s eta 0:00:04\n",
      "   --------------- ------------------------ 5.5/13.8 MB 2.6 MB/s eta 0:00:04\n",
      "   ---------------- ----------------------- 5.8/13.8 MB 2.6 MB/s eta 0:00:04\n",
      "   ------------------ --------------------- 6.3/13.8 MB 2.6 MB/s eta 0:00:03\n",
      "   ------------------- -------------------- 6.8/13.8 MB 2.5 MB/s eta 0:00:03\n",
      "   --------------------- ------------------ 7.3/13.8 MB 2.6 MB/s eta 0:00:03\n",
      "   ---------------------- ----------------- 7.9/13.8 MB 2.6 MB/s eta 0:00:03\n",
      "   ------------------------ --------------- 8.7/13.8 MB 2.6 MB/s eta 0:00:02\n",
      "   ---------------------------- ----------- 9.7/13.8 MB 2.7 MB/s eta 0:00:02\n",
      "   ------------------------------ --------- 10.5/13.8 MB 2.8 MB/s eta 0:00:02\n",
      "   ------------------------------- -------- 10.7/13.8 MB 2.8 MB/s eta 0:00:02\n",
      "   --------------------------------- ------ 11.5/13.8 MB 2.8 MB/s eta 0:00:01\n",
      "   ------------------------------------ --- 12.6/13.8 MB 2.9 MB/s eta 0:00:01\n",
      "   -------------------------------------- - 13.4/13.8 MB 2.9 MB/s eta 0:00:01\n",
      "   ---------------------------------------- 13.8/13.8 MB 2.9 MB/s eta 0:00:00\n",
      "Installing collected packages: faiss-cpu\n",
      "Successfully installed faiss-cpu-1.9.0.post1\n",
      "Note: you may need to restart the kernel to use updated packages.\n"
     ]
    }
   ],
   "source": [
    "pip install faiss-cpu\n"
   ]
  },
  {
   "cell_type": "code",
   "execution_count": 6,
   "id": "8d6a396a-f103-4d3f-bb99-635ce558b394",
   "metadata": {},
   "outputs": [
    {
     "name": "stdout",
     "output_type": "stream",
     "text": [
      "Dataset loaded successfully!\n"
     ]
    },
    {
     "name": "stdin",
     "output_type": "stream",
     "text": [
      "\n",
      "Enter a song name to get recommendations:  Say Something\n"
     ]
    },
    {
     "name": "stderr",
     "output_type": "stream",
     "text": [
      "Couldn't read cache at: .cache\n",
      "Couldn't write token to cache at: .cache\n"
     ]
    },
    {
     "name": "stdout",
     "output_type": "stream",
     "text": [
      "\n",
      "If you like 'Say Something', you might also enjoy:\n",
      "\n",
      "- Say Something\n"
     ]
    },
    {
     "data": {
      "text/html": [
       "<img src=\"https://i.scdn.co/image/ab67616d0000b2739e2acbb00244d6da17edb0cf\" width=\"200\"/>"
      ],
      "text/plain": [
       "<IPython.core.display.Image object>"
      ]
     },
     "metadata": {},
     "output_type": "display_data"
    }
   ],
   "source": [
    "import pandas as pd\n",
    "from sklearn.preprocessing import StandardScaler\n",
    "import faiss\n",
    "import spotipy\n",
    "from spotipy.oauth2 import SpotifyClientCredentials\n",
    "from IPython.display import display, Image\n",
    "\n",
    "# Spotify API Credentials\n",
    "CLIENT_ID = \"4da10aae52c04c8ab5c4a5300212c9d5\"\n",
    "CLIENT_SECRET = \"cfc4944866a943c9984b87cce8167b91\"\n",
    "\n",
    "# Initialize Spotify client\n",
    "client_credentials_manager = SpotifyClientCredentials(client_id=CLIENT_ID, client_secret=CLIENT_SECRET)\n",
    "sp = spotipy.Spotify(client_credentials_manager=client_credentials_manager)\n",
    "\n",
    "# Load dataset\n",
    "DATASET_PATH = r\"C:\\Users\\Asmi\\Downloads\\archive\\dataset.csv\"\n",
    "music = pd.read_csv(DATASET_PATH)\n",
    "\n",
    "# Required columns\n",
    "required_columns = ['track_name', 'artists', 'danceability', 'energy', 'valence', \n",
    "                    'tempo', 'speechiness', 'acousticness', 'instrumentalness', 'liveness']\n",
    "\n",
    "# Preprocessing for Similarity Calculation\n",
    "def build_faiss_index(df):\n",
    "    features = required_columns[2:]  # Exclude 'track_name' and 'artists'\n",
    "    scaler = StandardScaler()\n",
    "    scaled_features = scaler.fit_transform(df[features])\n",
    "    \n",
    "    # Build a FAISS index\n",
    "    d = scaled_features.shape[1]  # Dimensionality of vectors\n",
    "    index = faiss.IndexFlatL2(d)  # Use L2 distance\n",
    "    index.add(scaled_features.astype('float32'))  # Add normalized features to the index\n",
    "    \n",
    "    return index, scaled_features\n",
    "\n",
    "index, scaled_features = build_faiss_index(music)\n",
    "\n",
    "# Fetch album cover from Spotify\n",
    "def get_song_album_cover_url(song_name, artist_name):\n",
    "    try:\n",
    "        search_query = f\"track:{song_name} artist:{artist_name}\"\n",
    "        results = sp.search(q=search_query, type=\"track\")\n",
    "        if results and results[\"tracks\"][\"items\"]:\n",
    "            return results[\"tracks\"][\"items\"][0][\"album\"][\"images\"][0][\"url\"]\n",
    "        else:\n",
    "            return \"https://i.postimg.cc/0QNxYz4V/social.png\"  # Fallback image\n",
    "    except Exception as e:\n",
    "        print(f\"Error fetching album cover: {e}\")\n",
    "        return \"https://i.postimg.cc/0QNxYz4V/social.png\"\n",
    "\n",
    "# Recommendation Logic\n",
    "def recommend(song, k=3):\n",
    "    try:\n",
    "        # Find the index of the input song\n",
    "        song_indices = music[music['track_name'] == song].index\n",
    "        if song_indices.empty:\n",
    "            print(f\"Song '{song}' not found in the dataset.\")\n",
    "            return [], []\n",
    "        \n",
    "        index_song = song_indices[0]\n",
    "        query_vector = scaled_features[index_song].reshape(1, -1).astype('float32')\n",
    "        \n",
    "        # Search for k+1 nearest neighbors (including the song itself)\n",
    "        distances, indices = index.search(query_vector, k + 1)\n",
    "        \n",
    "        recommended_music_names = []\n",
    "        recommended_music_posters = []\n",
    "        for i in indices[0]:\n",
    "            if i != index_song:  # Skip the input song itself\n",
    "                track_name = music.iloc[i]['track_name']\n",
    "                artist = music.iloc[i]['artists']\n",
    "                if track_name not in recommended_music_names:  # Avoid duplicates\n",
    "                    recommended_music_posters.append(get_song_album_cover_url(track_name, artist))\n",
    "                    recommended_music_names.append(track_name)\n",
    "                if len(recommended_music_names) == k:  # Stop after k recommendations\n",
    "                    break\n",
    "        \n",
    "        return recommended_music_names, recommended_music_posters\n",
    "    except Exception as e:\n",
    "        print(f\"Error generating recommendations: {e}\")\n",
    "        return [], []\n",
    "\n",
    "# Example Usage\n",
    "print(\"Dataset loaded successfully!\")\n",
    "selected_song = input(\"\\nEnter a song name to get recommendations: \").strip()\n",
    "\n",
    "if selected_song in music['track_name'].values:\n",
    "    recommended_music_names, recommended_music_posters = recommend(selected_song)\n",
    "    if recommended_music_names:\n",
    "        print(f\"\\nIf you like '{selected_song}', you might also enjoy:\\n\")\n",
    "        for name, poster in zip(recommended_music_names, recommended_music_posters):\n",
    "            print(f\"- {name}\")\n",
    "            display(Image(url=poster, width=200))\n",
    "    else:\n",
    "        print(\"No recommendations available for the selected song.\")\n",
    "else:\n",
    "    print(\"The selected song is not in the dataset.\")\n"
   ]
  },
  {
   "cell_type": "code",
   "execution_count": 7,
   "id": "fe81566e-b3b8-4646-a0ce-9e65fec596f6",
   "metadata": {},
   "outputs": [
    {
     "name": "stdout",
     "output_type": "stream",
     "text": [
      "Dataset loaded successfully!\n"
     ]
    },
    {
     "name": "stdin",
     "output_type": "stream",
     "text": [
      "\n",
      "Enter a song name to get recommendations:  Give Me Your Forever\n"
     ]
    },
    {
     "name": "stderr",
     "output_type": "stream",
     "text": [
      "Couldn't read cache at: .cache\n",
      "Couldn't write token to cache at: .cache\n"
     ]
    },
    {
     "name": "stdout",
     "output_type": "stream",
     "text": [
      "Debug: Found indices [[  10  462  199 8391]] with distances [[0.         0.         0.16198781 0.16198781]]\n"
     ]
    },
    {
     "name": "stderr",
     "output_type": "stream",
     "text": [
      "Couldn't read cache at: .cache\n",
      "Couldn't write token to cache at: .cache\n"
     ]
    },
    {
     "name": "stdout",
     "output_type": "stream",
     "text": [
      "\n",
      "If you like 'Give Me Your Forever', you might also enjoy:\n",
      "\n",
      "- Give Me Your Forever\n"
     ]
    },
    {
     "data": {
      "text/html": [
       "<img src=\"https://i.scdn.co/image/ab67616d0000b2730acfd1cc37e7d4eacfa49c48\" width=\"200\"/>"
      ],
      "text/plain": [
       "<IPython.core.display.Image object>"
      ]
     },
     "metadata": {},
     "output_type": "display_data"
    },
    {
     "name": "stdout",
     "output_type": "stream",
     "text": [
      "- Moonlight, Mistletoe & You\n"
     ]
    },
    {
     "data": {
      "text/html": [
       "<img src=\"https://i.scdn.co/image/ab67616d0000b273f894f838ffb6e7715a59a3b7\" width=\"200\"/>"
      ],
      "text/plain": [
       "<IPython.core.display.Image object>"
      ]
     },
     "metadata": {},
     "output_type": "display_data"
    }
   ],
   "source": [
    "import pandas as pd\n",
    "from sklearn.preprocessing import StandardScaler\n",
    "import faiss\n",
    "import spotipy\n",
    "from spotipy.oauth2 import SpotifyClientCredentials\n",
    "from IPython.display import display, Image\n",
    "\n",
    "# Spotify API Credentials\n",
    "CLIENT_ID = \"4da10aae52c04c8ab5c4a5300212c9d5\"\n",
    "CLIENT_SECRET = \"cfc4944866a943c9984b87cce8167b91\"\n",
    "\n",
    "# Initialize Spotify client\n",
    "client_credentials_manager = SpotifyClientCredentials(client_id=CLIENT_ID, client_secret=CLIENT_SECRET)\n",
    "sp = spotipy.Spotify(client_credentials_manager=client_credentials_manager)\n",
    "\n",
    "# Load dataset\n",
    "DATASET_PATH = r\"C:\\Users\\Asmi\\Downloads\\archive\\dataset.csv\"\n",
    "music = pd.read_csv(DATASET_PATH)\n",
    "\n",
    "# Ensure required columns exist\n",
    "required_columns = ['track_name', 'artists', 'danceability', 'energy', 'valence', \n",
    "                    'tempo', 'speechiness', 'acousticness', 'instrumentalness', 'liveness']\n",
    "\n",
    "for col in required_columns:\n",
    "    if col not in music.columns:\n",
    "        raise ValueError(f\"Missing column in dataset: {col}\")\n",
    "\n",
    "# Handle missing values\n",
    "music = music.dropna(subset=required_columns)\n",
    "\n",
    "# Preprocessing for Similarity Calculation\n",
    "def build_faiss_index(df):\n",
    "    features = required_columns[2:]  # Exclude 'track_name' and 'artists'\n",
    "    scaler = StandardScaler()\n",
    "    scaled_features = scaler.fit_transform(df[features])\n",
    "    \n",
    "    # Build a FAISS index\n",
    "    d = scaled_features.shape[1]  # Dimensionality of vectors\n",
    "    index = faiss.IndexFlatL2(d)  # Use L2 distance\n",
    "    index.add(scaled_features.astype('float32'))  # Add normalized features to the index\n",
    "    \n",
    "    return index, scaled_features\n",
    "\n",
    "index, scaled_features = build_faiss_index(music)\n",
    "\n",
    "# Fetch album cover from Spotify\n",
    "def get_song_album_cover_url(song_name, artist_name):\n",
    "    try:\n",
    "        search_query = f\"track:{song_name} artist:{artist_name}\"\n",
    "        results = sp.search(q=search_query, type=\"track\")\n",
    "        if results and results[\"tracks\"][\"items\"]:\n",
    "            return results[\"tracks\"][\"items\"][0][\"album\"][\"images\"][0][\"url\"]\n",
    "        else:\n",
    "            return \"https://i.postimg.cc/0QNxYz4V/social.png\"  # Fallback image\n",
    "    except Exception as e:\n",
    "        print(f\"Error fetching album cover: {e}\")\n",
    "        return \"https://i.postimg.cc/0QNxYz4V/social.png\"\n",
    "\n",
    "# Recommendation Logic\n",
    "def recommend(song, k=3):\n",
    "    try:\n",
    "        # Find the index of the input song\n",
    "        song_indices = music[music['track_name'] == song].index\n",
    "        if song_indices.empty:\n",
    "            print(f\"Song '{song}' not found in the dataset.\")\n",
    "            return [], []\n",
    "        \n",
    "        index_song = song_indices[0]\n",
    "        query_vector = scaled_features[index_song].reshape(1, -1).astype('float32')\n",
    "        \n",
    "        # Search for k+1 nearest neighbors (including the song itself)\n",
    "        distances, indices = index.search(query_vector, k + 1)\n",
    "        \n",
    "        print(f\"Debug: Found indices {indices} with distances {distances}\")\n",
    "        \n",
    "        recommended_music_names = []\n",
    "        recommended_music_posters = []\n",
    "        for i in indices[0]:\n",
    "            if i != index_song:  # Skip the input song itself\n",
    "                track_name = music.iloc[i]['track_name']\n",
    "                artist = music.iloc[i]['artists']\n",
    "                if track_name not in recommended_music_names:  # Avoid duplicates\n",
    "                    recommended_music_posters.append(get_song_album_cover_url(track_name, artist))\n",
    "                    recommended_music_names.append(track_name)\n",
    "                if len(recommended_music_names) == k:  # Stop after k recommendations\n",
    "                    break\n",
    "        \n",
    "        return recommended_music_names, recommended_music_posters\n",
    "    except Exception as e:\n",
    "        print(f\"Error generating recommendations: {e}\")\n",
    "        return [], []\n",
    "\n",
    "# Example Usage\n",
    "print(\"Dataset loaded successfully!\")\n",
    "selected_song = input(\"\\nEnter a song name to get recommendations: \").strip()\n",
    "\n",
    "if selected_song in music['track_name'].values:\n",
    "    recommended_music_names, recommended_music_posters = recommend(selected_song)\n",
    "    if recommended_music_names:\n",
    "        print(f\"\\nIf you like '{selected_song}', you might also enjoy:\\n\")\n",
    "        for name, poster in zip(recommended_music_names, recommended_music_posters):\n",
    "            print(f\"- {name}\")\n",
    "            display(Image(url=poster, width=200))\n",
    "    else:\n",
    "        print(\"No recommendations available for the selected song.\")\n",
    "else:\n",
    "    print(\"The selected song is not in the dataset.\")\n"
   ]
  },
  {
   "cell_type": "code",
   "execution_count": null,
   "id": "1398b943-dc2a-4e7c-9563-912c425e725c",
   "metadata": {},
   "outputs": [],
   "source": [
    "import pandas as pd\n",
    "from sklearn.preprocessing import StandardScaler\n",
    "import faiss\n",
    "import spotipy\n",
    "from spotipy.oauth2 import SpotifyClientCredentials\n",
    "from IPython.display import display, Image\n",
    "\n",
    "# Spotify API Credentials\n",
    "CLIENT_ID = \"4da10aae52c04c8ab5c4a5300212c9d5\"\n",
    "CLIENT_SECRET = \"cfc4944866a943c9984b87cce8167b91\"\n",
    "\n",
    "# Initialize Spotify client\n",
    "client_credentials_manager = SpotifyClientCredentials(client_id=CLIENT_ID, client_secret=CLIENT_SECRET)\n",
    "sp = spotipy.Spotify(client_credentials_manager=client_credentials_manager)\n",
    "\n",
    "# Load dataset\n",
    "DATASET_PATH = r\"C:\\Users\\Asmi\\Downloads\\archive\\dataset.csv\"\n",
    "music = pd.read_csv(DATASET_PATH)\n",
    "\n",
    "# Ensure required columns exist\n",
    "required_columns = ['track_name', 'artists', 'danceability', 'energy', 'valence', \n",
    "                    'tempo', 'speechiness', 'acousticness', 'instrumentalness', 'liveness']\n",
    "\n",
    "for col in required_columns:\n",
    "    if col not in music.columns:\n",
    "        raise ValueError(f\"Missing column in dataset: {col}\")\n",
    "\n",
    "# Handle missing values\n",
    "music = music.dropna(subset=required_columns)\n",
    "\n",
    "# Preprocessing for Similarity Calculation\n",
    "def build_faiss_index(df):\n",
    "    features = required_columns[2:]  # Exclude 'track_name' and 'artists'\n",
    "    scaler = StandardScaler()\n",
    "    scaled_features = scaler.fit_transform(df[features])\n",
    "    \n",
    "    # Build a FAISS index\n",
    "    d = scaled_features.shape[1]  # Dimensionality of vectors\n",
    "    index = faiss.IndexFlatL2(d)  # Use L2 distance\n",
    "    index.add(scaled_features.astype('float32'))  # Add normalized features to the index\n",
    "    \n",
    "    return index, scaled_features\n",
    "\n",
    "index, scaled_features = build_faiss_index(music)\n",
    "\n",
    "# Fetch album cover from Spotify\n",
    "def get_song_album_cover_url(song_name, artist_name):\n",
    "    try:\n",
    "        search_query = f\"track:{song_name} artist:{artist_name}\"\n",
    "        results = sp.search(q=search_query, type=\"track\")\n",
    "        if results and results[\"tracks\"][\"items\"]:\n",
    "            return results[\"tracks\"][\"items\"][0][\"album\"][\"images\"][0][\"url\"]\n",
    "        else:\n",
    "            return \"https://i.postimg.cc/0QNxYz4V/social.png\"  # Fallback image\n",
    "    except Exception as e:\n",
    "        print(f\"Error fetching album cover: {e}\")\n",
    "        return \"https://i.postimg.cc/0QNxYz4V/social.png\"\n",
    "\n",
    "# Recommendation Logic\n",
    "def recommend(song, k=3):\n",
    "    try:\n",
    "        # Find the index of the input song\n",
    "        song_indices = music[music['track_name'] == song].index\n",
    "        if song_indices.empty:\n",
    "            print(f\"Song '{song}' not found in the dataset.\")\n",
    "            return [], []\n",
    "        \n",
    "        index_song = song_indices[0]\n",
    "        query_vector = scaled_features[index_song].reshape(1, -1).astype('float32')\n",
    "        \n",
    "        # Search for k+5 nearest neighbors to allow skipping duplicates\n",
    "        distances, indices = index.search(query_vector, k + 5)\n",
    "        \n",
    "        print(f\"Debug: Found indices {indices} with distances {distances}\")\n",
    "        \n",
    "        recommended_music_names = []\n",
    "        recommended_music_posters = []\n",
    "        for i in indices[0]:\n",
    "            if i != index_song:  # Skip the input song itself\n",
    "                track_name = music.iloc[i]['track_name']\n",
    "                artist = music.iloc[i]['artists']\n",
    "                if track_name not in recommended_music_names:  # Avoid duplicates\n",
    "                    recommended_music_posters.append(get_song_album_cover_url(track_name, artist))\n",
    "                    recommended_music_names.append(track_name)\n",
    "                if len(recommended_music_names) == k:  # Stop after k unique recommendations\n",
    "                    break\n",
    "        \n",
    "        return recommended_music_names, recommended_music_posters\n",
    "    except Exception as e:\n",
    "        print(f\"Error generating recommendations: {e}\")\n",
    "        return [], []\n",
    "\n",
    "\n",
    "# Example Usage\n",
    "print(\"Dataset loaded successfully!\")\n",
    "selected_song = input(\"\\nEnter a song name to get recommendations: \").strip()\n",
    "\n",
    "if selected_song in music['track_name'].values:\n",
    "    recommended_music_names, recommended_music_posters = recommend(selected_song)\n",
    "    if recommended_music_names:\n",
    "        print(f\"\\nIf you like '{selected_song}', you might also enjoy:\\n\")\n",
    "        for name, poster in zip(recommended_music_names, recommended_music_posters):\n",
    "            print(f\"- {name}\")\n",
    "            display(Image(url=poster, width=200))\n",
    "    else:\n",
    "        print(\"No recommendations available for the selected song.\")\n",
    "else:\n",
    "    print(\"The selected song is not in the dataset.\")\n"
   ]
  }
 ],
 "metadata": {
  "kernelspec": {
   "display_name": "Python 3 (ipykernel)",
   "language": "python",
   "name": "python3"
  },
  "language_info": {
   "codemirror_mode": {
    "name": "ipython",
    "version": 3
   },
   "file_extension": ".py",
   "mimetype": "text/x-python",
   "name": "python",
   "nbconvert_exporter": "python",
   "pygments_lexer": "ipython3",
   "version": "3.12.4"
  }
 },
 "nbformat": 4,
 "nbformat_minor": 5
}
